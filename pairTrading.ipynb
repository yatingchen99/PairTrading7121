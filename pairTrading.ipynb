{
 "cells": [
  {
   "cell_type": "code",
   "execution_count": 40,
   "metadata": {},
   "outputs": [],
   "source": [
    "import pandas as pd\n",
    "import numpy as np\n",
    "import matplotlib.pyplot as plt\n",
    "import yfinance as yf\n",
    "import os\n",
    "%matplotlib inline\n",
    "\n",
    "import warnings\n",
    "warnings.filterwarnings('ignore')\n",
    "\n",
    "from memoization import cached\n",
    "from IPython.core.interactiveshell import InteractiveShell\n",
    "InteractiveShell.ast_node_interactivity = \"all\""
   ]
  },
  {
   "cell_type": "code",
   "execution_count": 3,
   "metadata": {},
   "outputs": [
    {
     "name": "stdout",
     "output_type": "stream",
     "text": [
      "[*********************100%***********************]  1 of 1 completed\n",
      "[*********************100%***********************]  1 of 1 completed\n"
     ]
    }
   ],
   "source": [
    "@cached\n",
    "def yf_download(symbol, start, end):\n",
    "    df = yf.download(symbol, start, end)[[\"Adj Close\"]]\n",
    "    return df\n",
    "AAPL = yf_download(\"AAPL\", \"2016-01-01\", \"2018-01-01\")\n",
    "GOOG = yf_download(\"GOOG\", \"2016-01-01\", \"2018-01-01\")"
   ]
  },
  {
   "cell_type": "code",
   "execution_count": 7,
   "metadata": {},
   "outputs": [],
   "source": [
    "etfs = pd.read_csv(\"ETF.csv\").Symbol.tolist()\n",
    "if os.path.exists(\"ETF_5years.csv\"):\n",
    "    data = pd.read_csv(\"ETF_5years.csv\")\n",
    "else:\n",
    "    data = yf_download(etfs[0], \"2017-01-01\", \"2022-01-01\")\n",
    "    for etf in etfs[1:]:\n",
    "        data_etf = yf_download(etf, \"2017-01-01\", \"2022-01-01\")\n",
    "        data_etf.columns = [etf]\n",
    "        if len(data_etf) < 1200:\n",
    "            continue\n",
    "        data = data.merge(data_etf, left_index=True, right_index=True, how=\"left\")\n",
    "    "
   ]
  },
  {
   "cell_type": "code",
   "execution_count": 10,
   "metadata": {},
   "outputs": [
    {
     "data": {
      "text/html": [
       "<div>\n",
       "<style scoped>\n",
       "    .dataframe tbody tr th:only-of-type {\n",
       "        vertical-align: middle;\n",
       "    }\n",
       "\n",
       "    .dataframe tbody tr th {\n",
       "        vertical-align: top;\n",
       "    }\n",
       "\n",
       "    .dataframe thead th {\n",
       "        text-align: right;\n",
       "    }\n",
       "</style>\n",
       "<table border=\"1\" class=\"dataframe\">\n",
       "  <thead>\n",
       "    <tr style=\"text-align: right;\">\n",
       "      <th></th>\n",
       "      <th>SPY</th>\n",
       "      <th>IVV</th>\n",
       "      <th>VTI</th>\n",
       "      <th>VOO</th>\n",
       "      <th>QQQ</th>\n",
       "      <th>VEA</th>\n",
       "      <th>IEFA</th>\n",
       "      <th>VTV</th>\n",
       "      <th>AGG</th>\n",
       "      <th>VWO</th>\n",
       "      <th>...</th>\n",
       "      <th>VMBS</th>\n",
       "      <th>IWS</th>\n",
       "      <th>SCZ</th>\n",
       "      <th>SHV</th>\n",
       "      <th>BIL</th>\n",
       "      <th>VTEB</th>\n",
       "      <th>SPYV</th>\n",
       "      <th>MINT</th>\n",
       "      <th>VBK</th>\n",
       "      <th>GDX</th>\n",
       "    </tr>\n",
       "  </thead>\n",
       "  <tbody>\n",
       "    <tr>\n",
       "      <th>0</th>\n",
       "      <td>206.147522</td>\n",
       "      <td>206.448639</td>\n",
       "      <td>106.514450</td>\n",
       "      <td>188.826874</td>\n",
       "      <td>115.292564</td>\n",
       "      <td>31.734365</td>\n",
       "      <td>46.653103</td>\n",
       "      <td>82.195900</td>\n",
       "      <td>95.843117</td>\n",
       "      <td>31.678288</td>\n",
       "      <td>...</td>\n",
       "      <td>46.978447</td>\n",
       "      <td>73.160408</td>\n",
       "      <td>43.843437</td>\n",
       "      <td>104.629128</td>\n",
       "      <td>87.252823</td>\n",
       "      <td>45.289330</td>\n",
       "      <td>24.225027</td>\n",
       "      <td>93.323990</td>\n",
       "      <td>129.755386</td>\n",
       "      <td>20.845800</td>\n",
       "    </tr>\n",
       "    <tr>\n",
       "      <th>1</th>\n",
       "      <td>207.373962</td>\n",
       "      <td>207.696960</td>\n",
       "      <td>107.330246</td>\n",
       "      <td>189.941177</td>\n",
       "      <td>115.919456</td>\n",
       "      <td>32.122726</td>\n",
       "      <td>47.154655</td>\n",
       "      <td>82.643616</td>\n",
       "      <td>95.869698</td>\n",
       "      <td>31.967306</td>\n",
       "      <td>...</td>\n",
       "      <td>46.960506</td>\n",
       "      <td>74.080894</td>\n",
       "      <td>44.324566</td>\n",
       "      <td>104.619598</td>\n",
       "      <td>87.252823</td>\n",
       "      <td>45.424789</td>\n",
       "      <td>24.363054</td>\n",
       "      <td>93.323990</td>\n",
       "      <td>131.975128</td>\n",
       "      <td>20.999075</td>\n",
       "    </tr>\n",
       "    <tr>\n",
       "      <th>2</th>\n",
       "      <td>207.209183</td>\n",
       "      <td>207.505585</td>\n",
       "      <td>107.119415</td>\n",
       "      <td>189.795044</td>\n",
       "      <td>116.575333</td>\n",
       "      <td>32.407532</td>\n",
       "      <td>47.604328</td>\n",
       "      <td>82.336349</td>\n",
       "      <td>96.268463</td>\n",
       "      <td>32.300117</td>\n",
       "      <td>...</td>\n",
       "      <td>47.184860</td>\n",
       "      <td>73.746971</td>\n",
       "      <td>44.718208</td>\n",
       "      <td>104.610130</td>\n",
       "      <td>87.233711</td>\n",
       "      <td>45.578331</td>\n",
       "      <td>24.286373</td>\n",
       "      <td>93.342445</td>\n",
       "      <td>131.345093</td>\n",
       "      <td>22.225302</td>\n",
       "    </tr>\n",
       "    <tr>\n",
       "      <th>3</th>\n",
       "      <td>207.950546</td>\n",
       "      <td>208.325638</td>\n",
       "      <td>107.458580</td>\n",
       "      <td>190.534912</td>\n",
       "      <td>117.597649</td>\n",
       "      <td>32.278088</td>\n",
       "      <td>47.422729</td>\n",
       "      <td>82.415367</td>\n",
       "      <td>95.949471</td>\n",
       "      <td>32.168747</td>\n",
       "      <td>...</td>\n",
       "      <td>47.086151</td>\n",
       "      <td>73.846260</td>\n",
       "      <td>44.613232</td>\n",
       "      <td>104.638573</td>\n",
       "      <td>87.252823</td>\n",
       "      <td>45.524136</td>\n",
       "      <td>24.332380</td>\n",
       "      <td>93.342445</td>\n",
       "      <td>131.189972</td>\n",
       "      <td>21.449329</td>\n",
       "    </tr>\n",
       "    <tr>\n",
       "      <th>4</th>\n",
       "      <td>207.264114</td>\n",
       "      <td>207.651367</td>\n",
       "      <td>107.046097</td>\n",
       "      <td>189.932022</td>\n",
       "      <td>117.983444</td>\n",
       "      <td>32.200417</td>\n",
       "      <td>47.353542</td>\n",
       "      <td>81.967644</td>\n",
       "      <td>96.108932</td>\n",
       "      <td>32.116196</td>\n",
       "      <td>...</td>\n",
       "      <td>47.131020</td>\n",
       "      <td>73.214546</td>\n",
       "      <td>44.543255</td>\n",
       "      <td>104.657555</td>\n",
       "      <td>87.252823</td>\n",
       "      <td>45.569290</td>\n",
       "      <td>24.174633</td>\n",
       "      <td>93.360840</td>\n",
       "      <td>131.054321</td>\n",
       "      <td>21.516388</td>\n",
       "    </tr>\n",
       "    <tr>\n",
       "      <th>...</th>\n",
       "      <td>...</td>\n",
       "      <td>...</td>\n",
       "      <td>...</td>\n",
       "      <td>...</td>\n",
       "      <td>...</td>\n",
       "      <td>...</td>\n",
       "      <td>...</td>\n",
       "      <td>...</td>\n",
       "      <td>...</td>\n",
       "      <td>...</td>\n",
       "      <td>...</td>\n",
       "      <td>...</td>\n",
       "      <td>...</td>\n",
       "      <td>...</td>\n",
       "      <td>...</td>\n",
       "      <td>...</td>\n",
       "      <td>...</td>\n",
       "      <td>...</td>\n",
       "      <td>...</td>\n",
       "      <td>...</td>\n",
       "      <td>...</td>\n",
       "    </tr>\n",
       "    <tr>\n",
       "      <th>1254</th>\n",
       "      <td>477.260010</td>\n",
       "      <td>479.399994</td>\n",
       "      <td>242.960007</td>\n",
       "      <td>438.809998</td>\n",
       "      <td>403.480011</td>\n",
       "      <td>51.209999</td>\n",
       "      <td>74.750160</td>\n",
       "      <td>146.570007</td>\n",
       "      <td>114.095459</td>\n",
       "      <td>49.340000</td>\n",
       "      <td>...</td>\n",
       "      <td>52.750149</td>\n",
       "      <td>121.720001</td>\n",
       "      <td>72.816307</td>\n",
       "      <td>110.419998</td>\n",
       "      <td>91.430000</td>\n",
       "      <td>54.888092</td>\n",
       "      <td>41.820000</td>\n",
       "      <td>101.470955</td>\n",
       "      <td>283.399994</td>\n",
       "      <td>31.330000</td>\n",
       "    </tr>\n",
       "    <tr>\n",
       "      <th>1255</th>\n",
       "      <td>476.869995</td>\n",
       "      <td>479.029999</td>\n",
       "      <td>242.460007</td>\n",
       "      <td>438.480011</td>\n",
       "      <td>401.609985</td>\n",
       "      <td>51.209999</td>\n",
       "      <td>74.850014</td>\n",
       "      <td>146.940002</td>\n",
       "      <td>114.045532</td>\n",
       "      <td>49.169998</td>\n",
       "      <td>...</td>\n",
       "      <td>52.770130</td>\n",
       "      <td>121.989998</td>\n",
       "      <td>72.936211</td>\n",
       "      <td>110.410004</td>\n",
       "      <td>91.419998</td>\n",
       "      <td>54.898079</td>\n",
       "      <td>41.939999</td>\n",
       "      <td>101.470955</td>\n",
       "      <td>281.000000</td>\n",
       "      <td>31.090000</td>\n",
       "    </tr>\n",
       "    <tr>\n",
       "      <th>1256</th>\n",
       "      <td>477.480011</td>\n",
       "      <td>479.529999</td>\n",
       "      <td>242.600006</td>\n",
       "      <td>439.010010</td>\n",
       "      <td>401.549988</td>\n",
       "      <td>51.200001</td>\n",
       "      <td>74.860001</td>\n",
       "      <td>147.240005</td>\n",
       "      <td>113.706024</td>\n",
       "      <td>48.959999</td>\n",
       "      <td>...</td>\n",
       "      <td>52.690216</td>\n",
       "      <td>122.389999</td>\n",
       "      <td>73.175995</td>\n",
       "      <td>110.419998</td>\n",
       "      <td>91.419998</td>\n",
       "      <td>54.868114</td>\n",
       "      <td>42.040001</td>\n",
       "      <td>101.490936</td>\n",
       "      <td>281.440002</td>\n",
       "      <td>31.219999</td>\n",
       "    </tr>\n",
       "    <tr>\n",
       "      <th>1257</th>\n",
       "      <td>476.160004</td>\n",
       "      <td>478.179993</td>\n",
       "      <td>242.210007</td>\n",
       "      <td>437.769989</td>\n",
       "      <td>400.350006</td>\n",
       "      <td>51.080002</td>\n",
       "      <td>74.669998</td>\n",
       "      <td>147.050003</td>\n",
       "      <td>113.955666</td>\n",
       "      <td>49.590000</td>\n",
       "      <td>...</td>\n",
       "      <td>52.730171</td>\n",
       "      <td>122.190002</td>\n",
       "      <td>73.129997</td>\n",
       "      <td>110.419998</td>\n",
       "      <td>91.430000</td>\n",
       "      <td>54.858131</td>\n",
       "      <td>42.000000</td>\n",
       "      <td>101.498940</td>\n",
       "      <td>282.510010</td>\n",
       "      <td>31.780001</td>\n",
       "    </tr>\n",
       "    <tr>\n",
       "      <th>1258</th>\n",
       "      <td>474.959991</td>\n",
       "      <td>476.989990</td>\n",
       "      <td>241.440002</td>\n",
       "      <td>436.570007</td>\n",
       "      <td>397.850006</td>\n",
       "      <td>51.060001</td>\n",
       "      <td>74.639999</td>\n",
       "      <td>147.110001</td>\n",
       "      <td>113.915718</td>\n",
       "      <td>49.459999</td>\n",
       "      <td>...</td>\n",
       "      <td>52.780117</td>\n",
       "      <td>122.379997</td>\n",
       "      <td>73.089996</td>\n",
       "      <td>110.419998</td>\n",
       "      <td>91.430000</td>\n",
       "      <td>54.838158</td>\n",
       "      <td>42.000000</td>\n",
       "      <td>101.518929</td>\n",
       "      <td>281.790009</td>\n",
       "      <td>32.029999</td>\n",
       "    </tr>\n",
       "  </tbody>\n",
       "</table>\n",
       "<p>1259 rows × 98 columns</p>\n",
       "</div>"
      ],
      "text/plain": [
       "             SPY         IVV         VTI         VOO         QQQ        VEA  \\\n",
       "0     206.147522  206.448639  106.514450  188.826874  115.292564  31.734365   \n",
       "1     207.373962  207.696960  107.330246  189.941177  115.919456  32.122726   \n",
       "2     207.209183  207.505585  107.119415  189.795044  116.575333  32.407532   \n",
       "3     207.950546  208.325638  107.458580  190.534912  117.597649  32.278088   \n",
       "4     207.264114  207.651367  107.046097  189.932022  117.983444  32.200417   \n",
       "...          ...         ...         ...         ...         ...        ...   \n",
       "1254  477.260010  479.399994  242.960007  438.809998  403.480011  51.209999   \n",
       "1255  476.869995  479.029999  242.460007  438.480011  401.609985  51.209999   \n",
       "1256  477.480011  479.529999  242.600006  439.010010  401.549988  51.200001   \n",
       "1257  476.160004  478.179993  242.210007  437.769989  400.350006  51.080002   \n",
       "1258  474.959991  476.989990  241.440002  436.570007  397.850006  51.060001   \n",
       "\n",
       "           IEFA         VTV         AGG        VWO  ...       VMBS  \\\n",
       "0     46.653103   82.195900   95.843117  31.678288  ...  46.978447   \n",
       "1     47.154655   82.643616   95.869698  31.967306  ...  46.960506   \n",
       "2     47.604328   82.336349   96.268463  32.300117  ...  47.184860   \n",
       "3     47.422729   82.415367   95.949471  32.168747  ...  47.086151   \n",
       "4     47.353542   81.967644   96.108932  32.116196  ...  47.131020   \n",
       "...         ...         ...         ...        ...  ...        ...   \n",
       "1254  74.750160  146.570007  114.095459  49.340000  ...  52.750149   \n",
       "1255  74.850014  146.940002  114.045532  49.169998  ...  52.770130   \n",
       "1256  74.860001  147.240005  113.706024  48.959999  ...  52.690216   \n",
       "1257  74.669998  147.050003  113.955666  49.590000  ...  52.730171   \n",
       "1258  74.639999  147.110001  113.915718  49.459999  ...  52.780117   \n",
       "\n",
       "             IWS        SCZ         SHV        BIL       VTEB       SPYV  \\\n",
       "0      73.160408  43.843437  104.629128  87.252823  45.289330  24.225027   \n",
       "1      74.080894  44.324566  104.619598  87.252823  45.424789  24.363054   \n",
       "2      73.746971  44.718208  104.610130  87.233711  45.578331  24.286373   \n",
       "3      73.846260  44.613232  104.638573  87.252823  45.524136  24.332380   \n",
       "4      73.214546  44.543255  104.657555  87.252823  45.569290  24.174633   \n",
       "...          ...        ...         ...        ...        ...        ...   \n",
       "1254  121.720001  72.816307  110.419998  91.430000  54.888092  41.820000   \n",
       "1255  121.989998  72.936211  110.410004  91.419998  54.898079  41.939999   \n",
       "1256  122.389999  73.175995  110.419998  91.419998  54.868114  42.040001   \n",
       "1257  122.190002  73.129997  110.419998  91.430000  54.858131  42.000000   \n",
       "1258  122.379997  73.089996  110.419998  91.430000  54.838158  42.000000   \n",
       "\n",
       "            MINT         VBK        GDX  \n",
       "0      93.323990  129.755386  20.845800  \n",
       "1      93.323990  131.975128  20.999075  \n",
       "2      93.342445  131.345093  22.225302  \n",
       "3      93.342445  131.189972  21.449329  \n",
       "4      93.360840  131.054321  21.516388  \n",
       "...          ...         ...        ...  \n",
       "1254  101.470955  283.399994  31.330000  \n",
       "1255  101.470955  281.000000  31.090000  \n",
       "1256  101.490936  281.440002  31.219999  \n",
       "1257  101.498940  282.510010  31.780001  \n",
       "1258  101.518929  281.790009  32.029999  \n",
       "\n",
       "[1259 rows x 98 columns]"
      ]
     },
     "execution_count": 10,
     "metadata": {},
     "output_type": "execute_result"
    }
   ],
   "source": [
    "data"
   ]
  },
  {
   "cell_type": "code",
   "execution_count": 12,
   "metadata": {},
   "outputs": [
    {
     "data": {
      "text/html": [
       "<div>\n",
       "<style scoped>\n",
       "    .dataframe tbody tr th:only-of-type {\n",
       "        vertical-align: middle;\n",
       "    }\n",
       "\n",
       "    .dataframe tbody tr th {\n",
       "        vertical-align: top;\n",
       "    }\n",
       "\n",
       "    .dataframe thead th {\n",
       "        text-align: right;\n",
       "    }\n",
       "</style>\n",
       "<table border=\"1\" class=\"dataframe\">\n",
       "  <thead>\n",
       "    <tr style=\"text-align: right;\">\n",
       "      <th></th>\n",
       "      <th>SPY</th>\n",
       "      <th>IVV</th>\n",
       "    </tr>\n",
       "  </thead>\n",
       "  <tbody>\n",
       "    <tr>\n",
       "      <th>0</th>\n",
       "      <td>206.147522</td>\n",
       "      <td>206.448639</td>\n",
       "    </tr>\n",
       "    <tr>\n",
       "      <th>1</th>\n",
       "      <td>207.373962</td>\n",
       "      <td>207.696960</td>\n",
       "    </tr>\n",
       "    <tr>\n",
       "      <th>2</th>\n",
       "      <td>207.209183</td>\n",
       "      <td>207.505585</td>\n",
       "    </tr>\n",
       "    <tr>\n",
       "      <th>3</th>\n",
       "      <td>207.950546</td>\n",
       "      <td>208.325638</td>\n",
       "    </tr>\n",
       "    <tr>\n",
       "      <th>4</th>\n",
       "      <td>207.264114</td>\n",
       "      <td>207.651367</td>\n",
       "    </tr>\n",
       "    <tr>\n",
       "      <th>...</th>\n",
       "      <td>...</td>\n",
       "      <td>...</td>\n",
       "    </tr>\n",
       "    <tr>\n",
       "      <th>1254</th>\n",
       "      <td>477.260010</td>\n",
       "      <td>479.399994</td>\n",
       "    </tr>\n",
       "    <tr>\n",
       "      <th>1255</th>\n",
       "      <td>476.869995</td>\n",
       "      <td>479.029999</td>\n",
       "    </tr>\n",
       "    <tr>\n",
       "      <th>1256</th>\n",
       "      <td>477.480011</td>\n",
       "      <td>479.529999</td>\n",
       "    </tr>\n",
       "    <tr>\n",
       "      <th>1257</th>\n",
       "      <td>476.160004</td>\n",
       "      <td>478.179993</td>\n",
       "    </tr>\n",
       "    <tr>\n",
       "      <th>1258</th>\n",
       "      <td>474.959991</td>\n",
       "      <td>476.989990</td>\n",
       "    </tr>\n",
       "  </tbody>\n",
       "</table>\n",
       "<p>1259 rows × 2 columns</p>\n",
       "</div>"
      ],
      "text/plain": [
       "             SPY         IVV\n",
       "0     206.147522  206.448639\n",
       "1     207.373962  207.696960\n",
       "2     207.209183  207.505585\n",
       "3     207.950546  208.325638\n",
       "4     207.264114  207.651367\n",
       "...          ...         ...\n",
       "1254  477.260010  479.399994\n",
       "1255  476.869995  479.029999\n",
       "1256  477.480011  479.529999\n",
       "1257  476.160004  478.179993\n",
       "1258  474.959991  476.989990\n",
       "\n",
       "[1259 rows x 2 columns]"
      ]
     },
     "execution_count": 12,
     "metadata": {},
     "output_type": "execute_result"
    }
   ],
   "source": [
    "df = data.iloc[:, 0:2]\n",
    "df"
   ]
  },
  {
   "cell_type": "code",
   "execution_count": 14,
   "metadata": {},
   "outputs": [],
   "source": [
    "df[\"dif\"] = df.iloc[:,1] - df.iloc[:,0]"
   ]
  },
  {
   "cell_type": "code",
   "execution_count": 45,
   "metadata": {},
   "outputs": [
    {
     "data": {
      "text/plain": [
       "10.97573852539071"
      ]
     },
     "execution_count": 45,
     "metadata": {},
     "output_type": "execute_result"
    }
   ],
   "source": [
    "money = 0\n",
    "hold = False\n",
    "short = False\n",
    "# mean 0.8\n",
    "hist = pd.DataFrame(columns=[\"date\", \"price\", \"hold\", \"short\", \"money\"])\n",
    "for i in range(len(df)):\n",
    "    price = df.iloc[i, 2]\n",
    "    if price < 0.4 and not hold:\n",
    "        hold = True\n",
    "        money -= price \n",
    "    if price > 0.6 and hold:\n",
    "        hold = False \n",
    "        money += price \n",
    "    if price > 1.2 and not short:  \n",
    "        short = True \n",
    "        money += price \n",
    "    if price < 1 and short:\n",
    "        short = False \n",
    "        money -= price \n",
    "    hist.loc[len(hist)] = [df.index[i], price, hold, short, money]\n",
    "    # hist = hist.append([])\n",
    "if short:\n",
    "    money -= price \n",
    "if hold:\n",
    "    money += price \n",
    "money\n"
   ]
  },
  {
   "cell_type": "code",
   "execution_count": 43,
   "metadata": {},
   "outputs": [
    {
     "data": {
      "text/plain": [
       "count    230.000000\n",
       "mean       0.422578\n",
       "std        0.098427\n",
       "min       -0.567810\n",
       "25%        0.381294\n",
       "50%        0.429581\n",
       "75%        0.483002\n",
       "max        0.593048\n",
       "Name: price, dtype: float64"
      ]
     },
     "execution_count": 43,
     "metadata": {},
     "output_type": "execute_result"
    },
    {
     "data": {
      "text/plain": [
       "count    386.000000\n",
       "mean       1.541006\n",
       "std        0.317745\n",
       "min        1.019409\n",
       "25%        1.240898\n",
       "50%        1.519257\n",
       "75%        1.800056\n",
       "max        2.311676\n",
       "Name: price, dtype: float64"
      ]
     },
     "execution_count": 43,
     "metadata": {},
     "output_type": "execute_result"
    }
   ],
   "source": [
    "hist[hist[\"hold\"] == True].price.describe() #230\n",
    "hist[hist[\"short\"] == True].price.describe() #386"
   ]
  },
  {
   "cell_type": "code",
   "execution_count": 44,
   "metadata": {},
   "outputs": [
    {
     "data": {
      "text/plain": [
       "2.73"
      ]
     },
     "execution_count": 44,
     "metadata": {},
     "output_type": "execute_result"
    }
   ],
   "source": [
    "0.42 + 1.54*1.5"
   ]
  },
  {
   "cell_type": "code",
   "execution_count": null,
   "metadata": {},
   "outputs": [],
   "source": []
  },
  {
   "cell_type": "code",
   "execution_count": 26,
   "metadata": {},
   "outputs": [
    {
     "data": {
      "text/html": [
       "<div>\n",
       "<style scoped>\n",
       "    .dataframe tbody tr th:only-of-type {\n",
       "        vertical-align: middle;\n",
       "    }\n",
       "\n",
       "    .dataframe tbody tr th {\n",
       "        vertical-align: top;\n",
       "    }\n",
       "\n",
       "    .dataframe thead th {\n",
       "        text-align: right;\n",
       "    }\n",
       "</style>\n",
       "<table border=\"1\" class=\"dataframe\">\n",
       "  <thead>\n",
       "    <tr style=\"text-align: right;\">\n",
       "      <th></th>\n",
       "      <th>date</th>\n",
       "      <th>price</th>\n",
       "      <th>hold</th>\n",
       "      <th>short</th>\n",
       "      <th>money</th>\n",
       "    </tr>\n",
       "  </thead>\n",
       "  <tbody>\n",
       "    <tr>\n",
       "      <th>0</th>\n",
       "      <td>2</td>\n",
       "      <td>3</td>\n",
       "      <td>4</td>\n",
       "      <td>5</td>\n",
       "      <td>6</td>\n",
       "    </tr>\n",
       "  </tbody>\n",
       "</table>\n",
       "</div>"
      ],
      "text/plain": [
       "  date price hold short money\n",
       "0    2     3    4     5     6"
      ]
     },
     "execution_count": 26,
     "metadata": {},
     "output_type": "execute_result"
    }
   ],
   "source": [
    "hist.append(pd.Series([2,3,4,5,6], index=hist.columns), ignore_index=True)"
   ]
  },
  {
   "cell_type": "code",
   "execution_count": 28,
   "metadata": {},
   "outputs": [],
   "source": [
    "hist.loc[len(hist)] = [4,5,6,7,8]"
   ]
  },
  {
   "cell_type": "code",
   "execution_count": 29,
   "metadata": {},
   "outputs": [
    {
     "data": {
      "text/html": [
       "<div>\n",
       "<style scoped>\n",
       "    .dataframe tbody tr th:only-of-type {\n",
       "        vertical-align: middle;\n",
       "    }\n",
       "\n",
       "    .dataframe tbody tr th {\n",
       "        vertical-align: top;\n",
       "    }\n",
       "\n",
       "    .dataframe thead th {\n",
       "        text-align: right;\n",
       "    }\n",
       "</style>\n",
       "<table border=\"1\" class=\"dataframe\">\n",
       "  <thead>\n",
       "    <tr style=\"text-align: right;\">\n",
       "      <th></th>\n",
       "      <th>date</th>\n",
       "      <th>price</th>\n",
       "      <th>hold</th>\n",
       "      <th>short</th>\n",
       "      <th>money</th>\n",
       "    </tr>\n",
       "  </thead>\n",
       "  <tbody>\n",
       "    <tr>\n",
       "      <th>0</th>\n",
       "      <td>4</td>\n",
       "      <td>5</td>\n",
       "      <td>6</td>\n",
       "      <td>7</td>\n",
       "      <td>8</td>\n",
       "    </tr>\n",
       "  </tbody>\n",
       "</table>\n",
       "</div>"
      ],
      "text/plain": [
       "  date price hold short money\n",
       "0    4     5    6     7     8"
      ]
     },
     "execution_count": 29,
     "metadata": {},
     "output_type": "execute_result"
    }
   ],
   "source": [
    "hist"
   ]
  },
  {
   "cell_type": "code",
   "execution_count": 13,
   "metadata": {},
   "outputs": [
    {
     "data": {
      "text/plain": [
       "1.006348149090778"
      ]
     },
     "execution_count": 13,
     "metadata": {},
     "output_type": "execute_result"
    }
   ],
   "source": [
    "from sklearn.decomposition import PCA\n",
    "pca = PCA().fit(df)\n",
    "hedgeRatio = pca.components_[0][1] / pca.components_[0][0]\n",
    "hedgeRatio"
   ]
  },
  {
   "cell_type": "markdown",
   "metadata": {},
   "source": [
    "if AAPL / GOOG > hedgeRatio, short it else long it"
   ]
  },
  {
   "cell_type": "code",
   "execution_count": 42,
   "metadata": {},
   "outputs": [],
   "source": [
    "df[\"GOOG_position\"] = df[\"AAPL_position\"] = 0"
   ]
  },
  {
   "cell_type": "code",
   "execution_count": 43,
   "metadata": {},
   "outputs": [],
   "source": [
    "df[\"ratio\"] = df[\"AAPL\"] / df[\"GOOG\"]"
   ]
  },
  {
   "cell_type": "code",
   "execution_count": 44,
   "metadata": {},
   "outputs": [
    {
     "data": {
      "text/html": [
       "<div>\n",
       "<style scoped>\n",
       "    .dataframe tbody tr th:only-of-type {\n",
       "        vertical-align: middle;\n",
       "    }\n",
       "\n",
       "    .dataframe tbody tr th {\n",
       "        vertical-align: top;\n",
       "    }\n",
       "\n",
       "    .dataframe thead th {\n",
       "        text-align: right;\n",
       "    }\n",
       "</style>\n",
       "<table border=\"1\" class=\"dataframe\">\n",
       "  <thead>\n",
       "    <tr style=\"text-align: right;\">\n",
       "      <th></th>\n",
       "      <th>GOOG</th>\n",
       "      <th>AAPL</th>\n",
       "      <th>GOOG_position</th>\n",
       "      <th>AAPL_position</th>\n",
       "      <th>ratio</th>\n",
       "    </tr>\n",
       "    <tr>\n",
       "      <th>Date</th>\n",
       "      <th></th>\n",
       "      <th></th>\n",
       "      <th></th>\n",
       "      <th></th>\n",
       "      <th></th>\n",
       "    </tr>\n",
       "  </thead>\n",
       "  <tbody>\n",
       "    <tr>\n",
       "      <th>2016-01-04</th>\n",
       "      <td>741.840027</td>\n",
       "      <td>24.220572</td>\n",
       "      <td>0</td>\n",
       "      <td>0</td>\n",
       "      <td>0.032649</td>\n",
       "    </tr>\n",
       "    <tr>\n",
       "      <th>2016-01-05</th>\n",
       "      <td>742.580017</td>\n",
       "      <td>23.613626</td>\n",
       "      <td>0</td>\n",
       "      <td>0</td>\n",
       "      <td>0.031799</td>\n",
       "    </tr>\n",
       "    <tr>\n",
       "      <th>2016-01-06</th>\n",
       "      <td>743.619995</td>\n",
       "      <td>23.151518</td>\n",
       "      <td>0</td>\n",
       "      <td>0</td>\n",
       "      <td>0.031134</td>\n",
       "    </tr>\n",
       "    <tr>\n",
       "      <th>2016-01-07</th>\n",
       "      <td>726.390015</td>\n",
       "      <td>22.174416</td>\n",
       "      <td>0</td>\n",
       "      <td>0</td>\n",
       "      <td>0.030527</td>\n",
       "    </tr>\n",
       "    <tr>\n",
       "      <th>2016-01-08</th>\n",
       "      <td>714.469971</td>\n",
       "      <td>22.291666</td>\n",
       "      <td>0</td>\n",
       "      <td>0</td>\n",
       "      <td>0.031200</td>\n",
       "    </tr>\n",
       "    <tr>\n",
       "      <th>...</th>\n",
       "      <td>...</td>\n",
       "      <td>...</td>\n",
       "      <td>...</td>\n",
       "      <td>...</td>\n",
       "      <td>...</td>\n",
       "    </tr>\n",
       "    <tr>\n",
       "      <th>2017-12-22</th>\n",
       "      <td>1060.119995</td>\n",
       "      <td>41.792458</td>\n",
       "      <td>0</td>\n",
       "      <td>0</td>\n",
       "      <td>0.039422</td>\n",
       "    </tr>\n",
       "    <tr>\n",
       "      <th>2017-12-26</th>\n",
       "      <td>1056.739990</td>\n",
       "      <td>40.732178</td>\n",
       "      <td>0</td>\n",
       "      <td>0</td>\n",
       "      <td>0.038545</td>\n",
       "    </tr>\n",
       "    <tr>\n",
       "      <th>2017-12-27</th>\n",
       "      <td>1049.369995</td>\n",
       "      <td>40.739346</td>\n",
       "      <td>0</td>\n",
       "      <td>0</td>\n",
       "      <td>0.038823</td>\n",
       "    </tr>\n",
       "    <tr>\n",
       "      <th>2017-12-28</th>\n",
       "      <td>1048.140015</td>\n",
       "      <td>40.853970</td>\n",
       "      <td>0</td>\n",
       "      <td>0</td>\n",
       "      <td>0.038978</td>\n",
       "    </tr>\n",
       "    <tr>\n",
       "      <th>2017-12-29</th>\n",
       "      <td>1046.400024</td>\n",
       "      <td>40.412193</td>\n",
       "      <td>0</td>\n",
       "      <td>0</td>\n",
       "      <td>0.038620</td>\n",
       "    </tr>\n",
       "  </tbody>\n",
       "</table>\n",
       "<p>503 rows × 5 columns</p>\n",
       "</div>"
      ],
      "text/plain": [
       "                   GOOG       AAPL  GOOG_position  AAPL_position     ratio\n",
       "Date                                                                      \n",
       "2016-01-04   741.840027  24.220572              0              0  0.032649\n",
       "2016-01-05   742.580017  23.613626              0              0  0.031799\n",
       "2016-01-06   743.619995  23.151518              0              0  0.031134\n",
       "2016-01-07   726.390015  22.174416              0              0  0.030527\n",
       "2016-01-08   714.469971  22.291666              0              0  0.031200\n",
       "...                 ...        ...            ...            ...       ...\n",
       "2017-12-22  1060.119995  41.792458              0              0  0.039422\n",
       "2017-12-26  1056.739990  40.732178              0              0  0.038545\n",
       "2017-12-27  1049.369995  40.739346              0              0  0.038823\n",
       "2017-12-28  1048.140015  40.853970              0              0  0.038978\n",
       "2017-12-29  1046.400024  40.412193              0              0  0.038620\n",
       "\n",
       "[503 rows x 5 columns]"
      ]
     },
     "execution_count": 44,
     "metadata": {},
     "output_type": "execute_result"
    }
   ],
   "source": [
    "df"
   ]
  },
  {
   "cell_type": "code",
   "execution_count": 45,
   "metadata": {},
   "outputs": [
    {
     "data": {
      "text/plain": [
       "[<matplotlib.lines.Line2D at 0x7ff6886fdca0>]"
      ]
     },
     "execution_count": 45,
     "metadata": {},
     "output_type": "execute_result"
    },
    {
     "data": {
      "image/png": "[encoded data removed]",
      "text/plain": [
       "<Figure size 432x288 with 1 Axes>"
      ]
     },
     "metadata": {
      "needs_background": "light"
     },
     "output_type": "display_data"
    }
   ],
   "source": [
    "# we plot GOOG AAPL and fitted line\n",
    "import matplotlib.pyplot as plt\n",
    "plt.plot(df[\"GOOG\"], df[\"AAPL\"], '.')"
   ]
  },
  {
   "cell_type": "code",
   "execution_count": 46,
   "metadata": {},
   "outputs": [
    {
     "data": {
      "text/plain": [
       "0.05743167386586053"
      ]
     },
     "execution_count": 46,
     "metadata": {},
     "output_type": "execute_result"
    }
   ],
   "source": [
    "hedgeRatio"
   ]
  },
  {
   "cell_type": "code",
   "execution_count": 47,
   "metadata": {},
   "outputs": [
    {
     "data": {
      "text/plain": [
       "count    503.000000\n",
       "mean       0.035704\n",
       "std        0.003396\n",
       "min        0.028407\n",
       "25%        0.032465\n",
       "50%        0.034727\n",
       "75%        0.038881\n",
       "max        0.042075\n",
       "Name: ratio, dtype: float64"
      ]
     },
     "execution_count": 47,
     "metadata": {},
     "output_type": "execute_result"
    }
   ],
   "source": [
    "df.ratio.describe()"
   ]
  },
  {
   "cell_type": "code",
   "execution_count": 39,
   "metadata": {},
   "outputs": [
    {
     "data": {
      "text/plain": [
       "(11127.600402832031, -11117.24232673645, 741.8400268554688)"
      ]
     },
     "execution_count": 39,
     "metadata": {},
     "output_type": "execute_result"
    }
   ],
   "source": [
    "num_shares_google = 15\n",
    "google_price = df.iloc[0, 0]\n",
    "google_size = num_shares_google * google_price\n",
    "r = 0.0009\n",
    "\n",
    "aapl_price = df.iloc[0, 1]\n",
    "num_shares_aapl = np.around(-google_size/aapl_price) \n",
    "aapl_size = aapl_price * num_shares_aapl\n",
    "initial_leverage = google_price\n",
    "\n",
    "google_size, aapl_size, initial_leverage\n"
   ]
  },
  {
   "cell_type": "code",
   "execution_count": 40,
   "metadata": {},
   "outputs": [],
   "source": [
    "delta_t = 1 / (2*252)\n",
    "equity = [100000]\n",
    "\n",
    "leverage = [initial_leverage]\n",
    "profits = [0]\n",
    "previous_googl = df.iloc[0, 0]\n",
    "previous_aapl = df.iloc[0, 1]\n",
    "one_lege_size = 25000"
   ]
  },
  {
   "cell_type": "code",
   "execution_count": 41,
   "metadata": {},
   "outputs": [
    {
     "data": {
      "text/plain": [
       "0.05743167386586053"
      ]
     },
     "execution_count": 41,
     "metadata": {},
     "output_type": "execute_result"
    }
   ],
   "source": [
    "hedgeRatio"
   ]
  },
  {
   "cell_type": "code",
   "execution_count": null,
   "metadata": {},
   "outputs": [],
   "source": []
  }
 ],
 "metadata": {
  "interpreter": {
   "hash": "5700407823d8fff39750214d9b0f6170cb72c6be1217f1beed20a85e740218ab"
  },
  "kernelspec": {
   "display_name": "Python 3.8.8 ('anaconda3')",
   "language": "python",
   "name": "python3"
  },
  "language_info": {
   "codemirror_mode": {
    "name": "ipython",
    "version": 3
   },
   "file_extension": ".py",
   "mimetype": "text/x-python",
   "name": "python",
   "nbconvert_exporter": "python",
   "pygments_lexer": "ipython3",
   "version": "3.8.8"
  },
  "orig_nbformat": 4
 },
 "nbformat": 4,
 "nbformat_minor": 2
}
